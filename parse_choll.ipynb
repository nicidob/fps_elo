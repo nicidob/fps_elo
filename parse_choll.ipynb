{
 "cells": [
  {
   "cell_type": "code",
   "execution_count": null,
   "metadata": {},
   "outputs": [],
   "source": [
    "import numpy as np\n",
    "import re\n",
    "import json\n",
    "\n",
    "import pandas as pd\n",
    "import numpy as np\n",
    "import re\n",
    "import os\n",
    "\n",
    "def clean(n):\n",
    "    n = ''.join(n.split())\n",
    "    n = n.replace('n|','').replace('ic-','').replace('stx-','').replace('[KoG]^','').replace(']km[','')\n",
    "    n = n.replace('[B]','').replace('territory.ru>','').replace('esp-','').replace('ss-','').replace('K9-','')\n",
    "    n = n.replace('socrates_','socrates').replace('ASUS*c58-','').replace('ve-','').replace('g1|','')\n",
    "    n = n.replace('TOXIC','toxjq').replace('.','').replace('territoryru`','').replace('fazzz','fazz')\n",
    "    if n[-1] == '_':\n",
    "        n = n[:-1]\n",
    "    return n\n",
    "def clean2(x):\n",
    "    for sub in ['cK-','All*','{DigA}','c4','VP.','myztro|','CG_','POMPA','M_','myztro','__','SK','(invitationpending)','/CV']:\n",
    "        x = x.replace(sub,'')\n",
    "    return x"
   ]
  },
  {
   "cell_type": "code",
   "execution_count": null,
   "metadata": {},
   "outputs": [],
   "source": [
    "brack_text = {}\n",
    "for t in os.listdir('brackets'):\n",
    "    brack_text[t] = open('brackets/' + t).read()\n",
    "    \n",
    "import pickle\n",
    "with open('flags.pkl','rb') as fp:\n",
    "    flags = pickle.load(fp)\n",
    "flags['pow3r'] = 'ru'\n",
    "flags['slinger'] = 'de'\n",
    "flags['treble'] = 'se'\n",
    "flags['zyz'] = 'de'\n",
    "flags['polosatiy'] = 'ru'\n",
    "flags['powerk'] = 'kr'\n",
    "flags['neok'] = 'de'\n",
    "flags['shurik'] = 'ru'\n",
    "flags['fazz'] = 'se'\n",
    "flags['ztalwart'] = 'se'\n",
    "def get_codes(example_str):\n",
    "    codes = []\n",
    "    for line in example_str.split('\\n'):\n",
    "        codes.append(line[1:].strip().rstrip().split(' |')[0][:-1])\n",
    "\n",
    "    codes = [_ for _ in codes if len(_) > 0]\n",
    "    return codes\n",
    "brack_codes = {k: get_codes(v) for k,v in brack_text.items()}\n"
   ]
  },
  {
   "cell_type": "code",
   "execution_count": null,
   "metadata": {},
   "outputs": [],
   "source": [
    "data = json.load(open('fps88.json',encoding='utf-8'))\n",
    "mbr = data['matches_by_round']"
   ]
  },
  {
   "cell_type": "code",
   "execution_count": null,
   "metadata": {},
   "outputs": [],
   "source": [
    "[(k,len(v)) for k,v in mbr.items()]"
   ]
  },
  {
   "cell_type": "code",
   "execution_count": null,
   "metadata": {},
   "outputs": [],
   "source": [
    "fr_u = -max([(len(v),-int(k)) for k,v in mbr.items() if '-' not in k])[1]\n",
    "fr_l = max([(len(v),int(k)) for k,v in mbr.items() if '-' in k] )[1]"
   ]
  },
  {
   "cell_type": "code",
   "execution_count": null,
   "metadata": {},
   "outputs": [],
   "source": [
    "i = fr_u\n",
    "matches_upper = []\n",
    "while True:\n",
    "    if str(i) not in mbr:\n",
    "        break\n",
    "    round_m = []\n",
    "    for match in mbr[str(i)]:\n",
    "        p1 = clean2(clean(clean2(match['player1']['display_name'])))\n",
    "        p2 = clean2(clean(clean2(match['player2']['display_name'])))\n",
    "        try:\n",
    "            s1, s2 = match['scores']\n",
    "        except:\n",
    "            s1 = match['winner_id'] == match['player1']['id']\n",
    "            s2 = match['winner_id'] == match['player2']['id']\n",
    "\n",
    "        s1,s2 = int(s1),int(s2)\n",
    "        round_m.append((p1,p2,s1,s2))\n",
    "        \n",
    "    matches_upper.append(round_m)\n",
    "    i+=1\n",
    "\n",
    "i = fr_l\n",
    "matches_lower = []\n",
    "while True:\n",
    "    if str(i) not in mbr:\n",
    "        break\n",
    "    round_m = []\n",
    "    for match in mbr[str(i)]:\n",
    "        p1 = clean2(clean(clean2(match['player1']['display_name'])))\n",
    "        p2 = clean2(clean(clean2(match['player2']['display_name'])))\n",
    "        try:\n",
    "            s1, s2 = match['scores']\n",
    "        except:\n",
    "            s1 = match['winner_id'] == match['player1']['id']\n",
    "            s2 = match['winner_id'] == match['player2']['id']\n",
    "\n",
    "        s1,s2 = int(s1),int(s2)\n",
    "        round_m.append((p1,p2,s1,s2))\n",
    "    i-=1\n",
    "    matches_lower.append(round_m)\n",
    "print(matches_upper[-1])\n",
    "print(matches_lower[-1])\n",
    "matches_upper = matches_upper[1:-1]\n",
    "matches_lower = matches_lower[1:-1]\n",
    "\n",
    "[len(_) for _ in matches_upper],[len(_) for _ in matches_lower]"
   ]
  },
  {
   "cell_type": "code",
   "execution_count": null,
   "metadata": {},
   "outputs": [],
   "source": [
    "matches_lower"
   ]
  },
  {
   "cell_type": "code",
   "execution_count": null,
   "metadata": {},
   "outputs": [],
   "source": [
    "TYPE = 'se' if len(matches_lower) == 0 else 'de'\n",
    "codes = brack_codes[str(2*len(matches_upper[0])) + TYPE + '.txt']"
   ]
  },
  {
   "cell_type": "code",
   "execution_count": null,
   "metadata": {},
   "outputs": [],
   "source": [
    "tres = []\n",
    "for brack in [_ for _ in [matches_upper,matches_lower] if len(_) > 0]:\n",
    "    res = []\n",
    "\n",
    "    queue = [list(_) + [0] for _ in brack[-1]]\n",
    "    all_match_us = sum(brack[:-1],[])[::-1]\n",
    "\n",
    "    temp_res = []\n",
    "    curr_level = 0\n",
    "    print(queue,res)\n",
    "    while len(queue) > 0:\n",
    "        print(len(queue),len(res),curr_level, len(temp_res),len(all_match_us))\n",
    "\n",
    "        match=queue.pop(0)\n",
    "        flip = False\n",
    "        if match[-1] != curr_level:\n",
    "            curr_level += 1\n",
    "            res.append(temp_res)\n",
    "            temp_res = []\n",
    "        del_idx = -1\n",
    "        for i in range(len(all_match_us)):\n",
    "            if all_match_us[i][0] == match[0] or all_match_us[i][1] == match[0]:\n",
    "                queue.append(list(all_match_us[i]) + [curr_level+1])\n",
    "                del_idx = i\n",
    "                break\n",
    "        #print(del_idx,len(all_match_us))\n",
    "        if del_idx != -1:\n",
    "            del all_match_us[del_idx]\n",
    "            flip =True\n",
    "        del_idx = -1\n",
    "        for i in range(len(all_match_us)):\n",
    "            if all_match_us[i][0] == match[1] or all_match_us[i][1] == match[1]:\n",
    "                queue.append(list(all_match_us[i]) + [curr_level+1])\n",
    "                del_idx = i\n",
    "                break\n",
    "        #print(del_idx,len(all_match_us))\n",
    "        if del_idx != -1:\n",
    "            del all_match_us[del_idx]\n",
    "            flip = False\n",
    "        if flip:\n",
    "            match = (match[1],match[0],match[3],match[2],match[4])\n",
    "        temp_res.append(match)\n",
    "    #temp_res.append(['schnucks', 'SoulXtort', 0, 0] + [curr_level])\n",
    "    res.append(temp_res)\n",
    "    tres.append(res)"
   ]
  },
  {
   "cell_type": "code",
   "execution_count": null,
   "metadata": {},
   "outputs": [],
   "source": [
    "[[len(x) for x in _ ] for _ in tres]"
   ]
  },
  {
   "cell_type": "code",
   "execution_count": null,
   "metadata": {},
   "outputs": [],
   "source": [
    "tres"
   ]
  },
  {
   "cell_type": "code",
   "execution_count": null,
   "metadata": {},
   "outputs": [],
   "source": [
    "TYPE"
   ]
  },
  {
   "cell_type": "code",
   "execution_count": null,
   "metadata": {},
   "outputs": [],
   "source": [
    "new_res = sum([_[::-1] for _ in tres],[])\n",
    "new_res = sum(new_res,[])\n",
    "#|R1D43=belmakor|R1D43score=15 |R1D43flag= |R1D43win=1\n",
    "#|R1D44=dCypher|R1D44score=7 |R1D44flag= |R1D44win=\n",
    "for i in range(0,len(new_res)):\n",
    "    p1,p2,s1,s2,lvl = new_res[i]\n",
    "    s1,s2 = int(s1),int(s2)\n",
    "    w1 = '1' if int(s1) > int(s2) else ''\n",
    "    w2 = '1' if int(s2) > int(s1) else ''\n",
    "    bn =codes[2*i]\n",
    "    if abs(s1) + abs(s2) ==1:\n",
    "        s1 = ''\n",
    "        s2 = ''\n",
    "    f1 = flags.get(p1.lower(),'')\n",
    "    f2 = flags.get(p2.lower(),'')\n",
    "\n",
    "    print('|{}={}|{}score={} |{}flag={} |{}win={}'.format(bn,p1,bn,s1,bn,f1,bn,w1))\n",
    "    bn = codes[2*i+1]\n",
    "    print('|{}={}|{}score={} |{}flag={} |{}win={}'.format(bn,p2,bn,s2,bn,f2,bn,w2))\n",
    "print()\n",
    "for i in range(i+1,len(codes)//2):\n",
    "    p1,p2 = '',''\n",
    "    s1,s2 ='',''\n",
    "    w1 = ''\n",
    "    w2 = ''\n",
    "    bn =codes[2*i]\n",
    "    f1 = ''#flags.get(p1.lower(),'ru')\n",
    "    f2 = ''\n",
    "    print('|{}={}|{}score={} |{}flag={} |{}win={}'.format(bn,p1,bn,s1,bn,f1,bn,w1))\n",
    "    bn = codes[2*i+1]\n",
    "    print('|{}={}|{}score={} |{}flag={} |{}win={}'.format(bn,p2,bn,s2,bn,f2,bn,w2))\n"
   ]
  },
  {
   "cell_type": "code",
   "execution_count": null,
   "metadata": {},
   "outputs": [],
   "source": [
    "matches_upper[0]"
   ]
  },
  {
   "cell_type": "code",
   "execution_count": null,
   "metadata": {},
   "outputs": [],
   "source": [
    "codes"
   ]
  },
  {
   "cell_type": "code",
   "execution_count": null,
   "metadata": {},
   "outputs": [],
   "source": []
  },
  {
   "cell_type": "code",
   "execution_count": null,
   "metadata": {},
   "outputs": [],
   "source": []
  }
 ],
 "metadata": {
  "kernelspec": {
   "display_name": "Python 3",
   "language": "python",
   "name": "python3"
  },
  "language_info": {
   "codemirror_mode": {
    "name": "ipython",
    "version": 3
   },
   "file_extension": ".py",
   "mimetype": "text/x-python",
   "name": "python",
   "nbconvert_exporter": "python",
   "pygments_lexer": "ipython3",
   "version": "3.7.3"
  }
 },
 "nbformat": 4,
 "nbformat_minor": 2
}
