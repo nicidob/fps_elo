{
 "cells": [
  {
   "cell_type": "code",
   "execution_count": null,
   "metadata": {},
   "outputs": [],
   "source": [
    "import pandas as pd\n",
    "import numpy as np\n",
    "import re"
   ]
  },
  {
   "cell_type": "code",
   "execution_count": null,
   "metadata": {},
   "outputs": [],
   "source": [
    "example_str = \"\"\"|R1D1= |R1D1flag= |R1D1score= |R1D1win=\n",
    "|R1D2= |R1D2flag= |R1D2score= |R1D2win=\n",
    "|R1D3= |R1D3flag= |R1D3score= |R1D3win=\n",
    "|R1D4= |R1D4flag= |R1D4score= |R1D4win=\n",
    "|R1D5= |R1D5flag= |R1D5score= |R1D5win=\n",
    "|R1D6= |R1D6flag= |R1D6score= |R1D6win=\n",
    "|R1D7= |R1D7flag= |R1D7score= |R1D7win=\n",
    "|R1D8= |R1D8flag= |R1D8score= |R1D8win=\n",
    "\n",
    "|R2W1= |R2W1flag= |R2W1score= |R2W1win=\n",
    "|R2W2= |R2W2flag= |R2W2score= |R2W2win=\n",
    "|R2W3= |R2W3flag= |R2W3score= |R2W3win=\n",
    "|R2W4= |R2W4flag= |R2W4score= |R2W4win=\n",
    "\n",
    "|R4W1= |R4W1flag= |R4W1score= |R4W1win=\n",
    "|R4W2= |R4W2flag= |R4W2score= |R4W2win=\"\"\""
   ]
  },
  {
   "cell_type": "code",
   "execution_count": null,
   "metadata": {},
   "outputs": [],
   "source": [
    "example_str = \"\"\"|R1D33= |R1D33score= |R1D33flag= |R1D33win=\n",
    "|R1D34= |R1D34score= |R1D34flag= |R1D34win=\n",
    "|R1D35= |R1D35score= |R1D35flag= |R1D35win=\n",
    "|R1D36= |R1D36score= |R1D36flag= |R1D36win=\n",
    "|R1D37= |R1D37score= |R1D37flag= |R1D37win=\n",
    "|R1D38= |R1D38score= |R1D38flag= |R1D38win=\n",
    "|R1D39= |R1D39score= |R1D39flag= |R1D39win=\n",
    "|R1D40= |R1D40score= |R1D40flag= |R1D40win=\n",
    "|R1D41= |R1D41score= |R1D41flag= |R1D41win=\n",
    "|R1D42= |R1D42score= |R1D42flag= |R1D42win=\n",
    "|R1D43= |R1D43score= |R1D43flag= |R1D43win=\n",
    "|R1D44= |R1D44score= |R1D44flag= |R1D44win=\n",
    "|R1D45= |R1D45score= |R1D45flag= |R1D45win=\n",
    "|R1D46= |R1D46score= |R1D46flag= |R1D46win=\n",
    "|R1D47= |R1D47score= |R1D47flag= |R1D47win=\n",
    "|R1D48= |R1D48score= |R1D48flag= |R1D48win=\n",
    "\n",
    "|R2D1= |R2D1score= |R2D1flag= |R2D1win=\n",
    "|R2W17= |R2W17score= |R2W17flag= |R2W17win=\n",
    "|R2D2= |R2D2score= |R2D2flag= |R2D2win=\n",
    "|R2W18= |R2W18score= |R2W18flag= |R2W18win=\n",
    "|R2D3= |R2D3score= |R2D3flag= |R2D3win=\n",
    "|R2W19= |R2W19score= |R2W19flag= |R2W19win=\n",
    "|R2D4= |R2D4score= |R2D4flag= |R2D4win=\n",
    "|R2W20= |R2W20score= |R2W20flag= |R2W20win=\n",
    "|R2D5= |R2D5score= |R2D5flag= |R2D5win=\n",
    "|R2W21= |R2W21score= |R2W21flag= |R2W21win=\n",
    "|R2D6= |R2D6score= |R2D6flag= |R2D6win=\n",
    "|R2W22= |R2W22score= |R2W22flag= |R2W22win=\n",
    "|R2D7= |R2D7score= |R2D7flag= |R2D7win=\n",
    "|R2W23= |R2W23score= |R2W23flag= |R2W23win=\n",
    "|R2D8= |R2D8score= |R2D8flag= |R2D8win=\n",
    "|R2W24= |R2W24score= |R2W24flag= |R2W24win=\n",
    "\n",
    "|R3W9= |R3W9score= |R3W9flag= |R3W9win=\n",
    "|R3W10= |R3W10score= |R3W10flag= |R3W10win=\n",
    "|R3W11= |R3W11score= |R3W11flag= |R3W11win=\n",
    "|R3W12= |R3W12score= |R3W12flag= |R3W12win=\n",
    "|R3W13= |R3W13score= |R3W13flag= |R3W13win=\n",
    "|R3W14= |R3W14score= |R3W14flag= |R3W14win=\n",
    "|R3W15= |R3W15score= |R3W15flag= |R3W15win=\n",
    "|R3W16= |R3W16score= |R3W16flag= |R3W16win=\n",
    "\n",
    "|R4D1= |R4D1score= |R4D1flag= |R4D1win=\n",
    "|R4W5= |R4W5score= |R4W5flag= |R4W5win=\n",
    "|R4D2= |R4D2score= |R4D2flag= |R4D2win=\n",
    "|R4W6= |R4W6score= |R4W6flag= |R4W6win=\n",
    "|R4D3= |R4D3score= |R4D3flag= |R4D3win=\n",
    "|R4W7= |R4W7score= |R4W7flag= |R4W7win=\n",
    "|R4D4= |R4D4score= |R4D4flag= |R4D4win=\n",
    "|R4W8= |R4W8score= |R4W8flag= |R4W8win=\n",
    "\n",
    "|R5W3= |R5W3score= |R5W3flag= |R5W3win=\n",
    "|R5W4= |R5W4score= |R5W4flag= |R5W4win=\n",
    "|R5W5= |R5W5score= |R5W5flag= |R5W5win=\n",
    "|R5W6= |R5W6score= |R5W6flag= |R5W6win= \n",
    "\n",
    "|R6W1= |R6W1score= |R6W1flag= |R6W1win=\n",
    "|R6D1= |R6D1score= |R6D1flag= |R6D1win=\n",
    "|R6W2= |R6W2score= |R6W2flag= |R6W2win=\n",
    "|R6D2= |R6D2score= |R6D2flag= |R6D2win=\"\"\""
   ]
  },
  {
   "cell_type": "code",
   "execution_count": null,
   "metadata": {},
   "outputs": [],
   "source": [
    "example_str = \"\"\"|R1D1= |R1D1score= |R1D1flag= |R1D1win=\n",
    "|R1D2= |R1D2score= |R1D2flag= |R1D2win=\n",
    "|R1D3= |R1D3score= |R1D3flag= |R1D3win=\n",
    "|R1D4= |R1D4score= |R1D4flag= |R1D4win=\n",
    "|R1D5= |R1D5score= |R1D5flag= |R1D5win=\n",
    "|R1D6= |R1D6score= |R1D6flag= |R1D6win=\n",
    "|R1D7= |R1D7score= |R1D7flag= |R1D7win=\n",
    "|R1D8= |R1D8score= |R1D8flag= |R1D8win=\n",
    "|R1D9= |R1D9score= |R1D9flag= |R1D9win=\n",
    "|R1D10= |R1D10score= |R1D10flag= |R1D10win=\n",
    "|R1D11= |R1D11score= |R1D11flag= |R1D11win=\n",
    "|R1D12= |R1D12score= |R1D12flag= |R1D12win=\n",
    "|R1D13= |R1D13score= |R1D13flag= |R1D13win=\n",
    "|R1D14= |R1D14score= |R1D14flag= |R1D14win=\n",
    "|R1D15= |R1D15score= |R1D15flag= |R1D15win=\n",
    "|R1D16= |R1D16score= |R1D16flag= |R1D16win=\n",
    "|R1D17= |R1D17score= |R1D17flag= |R1D17win=\n",
    "|R1D18= |R1D18score= |R1D18flag= |R1D18win=\n",
    "|R1D19= |R1D19score= |R1D19flag= |R1D19win=\n",
    "|R1D20= |R1D20score= |R1D20flag= |R1D20win=\n",
    "|R1D21= |R1D21score= |R1D21flag= |R1D21win=\n",
    "|R1D22= |R1D22score= |R1D22flag= |R1D22win=\n",
    "|R1D23= |R1D23score= |R1D23flag= |R1D23win=\n",
    "|R1D24= |R1D24score= |R1D24flag= |R1D24win=\n",
    "|R1D25= |R1D25score= |R1D25flag= |R1D25win=\n",
    "|R1D26= |R1D26score= |R1D26flag= |R1D26win=\n",
    "|R1D27= |R1D27score= |R1D27flag= |R1D27win=\n",
    "|R1D28= |R1D28score= |R1D28flag= |R1D28win=\n",
    "|R1D29= |R1D29score= |R1D29flag= |R1D29win=\n",
    "|R1D30= |R1D30score= |R1D30flag= |R1D30win=\n",
    "|R1D31= |R1D31score= |R1D31flag= |R1D31win=\n",
    "|R1D32= |R1D32score= |R1D32flag= |R1D32win=\n",
    "\n",
    "|R2W1= |R2W1score= |R2W1flag= |R2W1win=\n",
    "|R2W2= |R2W2score= |R2W2flag= |R2W2win=\n",
    "|R2W3= |R2W3score= |R2W3flag= |R2W3win=\n",
    "|R2W4= |R2W4score= |R2W4flag= |R2W4win=\n",
    "|R2W5= |R2W5score= |R2W5flag= |R2W5win=\n",
    "|R2W6= |R2W6score= |R2W6flag= |R2W6win=\n",
    "|R2W7= |R2W7score= |R2W7flag= |R2W7win=\n",
    "|R2W8= |R2W8score= |R2W8flag= |R2W8win=\n",
    "|R2W9= |R2W9score= |R2W9flag= |R2W9win=\n",
    "|R2W10= |R2W10score= |R2W10flag= |R2W10win=\n",
    "|R2W11= |R2W11score= |R2W11flag= |R2W11win=\n",
    "|R2W12= |R2W12score= |R2W12flag= |R2W12win=\n",
    "|R2W13= |R2W13score= |R2W13flag= |R2W13win=\n",
    "|R2W14= |R2W14score= |R2W14flag= |R2W14win=\n",
    "|R2W15= |R2W15score= |R2W15flag= |R2W15win=\n",
    "|R2W16= |R2W16score= |R2W16flag= |R2W16win=\n",
    "\n",
    "|R3W1= |R3W1score= |R3W1flag= |R3W1win=\n",
    "|R3W2= |R3W2score= |R3W2flag= |R3W2win=\n",
    "|R3W3= |R3W3score= |R3W3flag= |R3W3win=\n",
    "|R3W4= |R3W4score= |R3W4flag= |R3W4win=\n",
    "|R3W5= |R3W5score= |R3W5flag= |R3W5win=\n",
    "|R3W6= |R3W6score= |R3W6flag= |R3W6win=\n",
    "|R3W7= |R3W7score= |R3W7flag= |R3W7win=\n",
    "|R3W8= |R3W8score= |R3W8flag= |R3W8win=\n",
    "\n",
    "|R4W1= |R4W1score= |R4W1flag= |R4W1win=\n",
    "|R4W2= |R4W2score= |R4W2flag= |R4W2win=\n",
    "|R4W3= |R4W3score= |R4W3flag= |R4W3win=\n",
    "|R4W4= |R4W4score= |R4W4flag= |R4W4win=\"\"\"\n"
   ]
  },
  {
   "cell_type": "code",
   "execution_count": null,
   "metadata": {},
   "outputs": [],
   "source": [
    "codes = []\n",
    "for line in example_str.split('\\n'):\n",
    "    codes.append(line[1:].strip().rstrip().split(' |')[0][:-1])\n",
    "\n",
    "codes = [_ for _ in codes if len(_) > 0]"
   ]
  },
  {
   "cell_type": "code",
   "execution_count": null,
   "metadata": {},
   "outputs": [],
   "source": [
    "\n",
    "import pickle\n",
    "with open('flags.pkl','rb') as fp:\n",
    "    flags = pickle.load(fp)"
   ]
  },
  {
   "cell_type": "code",
   "execution_count": null,
   "metadata": {},
   "outputs": [],
   "source": [
    "w1 = \"\"\"RocketBoy [2:0] Myce\n",
    "\n",
    "Python [2:0] ddk\n",
    "\n",
    "RazerJ [2:0]  rvd\n",
    "\n",
    "kfu [0:2] dkt\"\"\"\n",
    "\n",
    "w2 = \"\"\"RocketBoy [1:2] dkt \n",
    "\n",
    "RazerJ [2:0] DKT\"\"\"\n",
    "\n",
    "w3 = \"\"\"\"\"\""
   ]
  },
  {
   "cell_type": "code",
   "execution_count": null,
   "metadata": {},
   "outputs": [],
   "source": [
    "w1 = \"\"\"  Hacker.RazerJ [ 02 : 00 ] FienD\n",
    "Michael Smith [ 02 : 00 ] EG|gellehsak\n",
    "ERMAC [ 02 : 01 ] Matthew Winke\n",
    "RocketBoy [ 02 : 00 ] Stasis\n",
    "ons\\destrukt [ 02 : 00 ] Lunat1c\n",
    "EG.LoSt-CaUzE [ 02 : 00 ] King0r\n",
    "rapha [ 02 : 00 ] toxter\n",
    "mouz.Z4muZ [ 02 : 00 ] etcz\n",
    "ons\\cl0ck [ 02 : 00 ] Relic\n",
    "ons\\chance [ 02 : 00 ] g0d/trito\n",
    "mouz.Cooller [ 02 : 00 ] clowN\n",
    "ons\\daler [ 02 : 00 ] Kevin Holowchik\n",
    "czm [ 02 : 00 ] fake_id\n",
    "viju [ 02 : 00 ] Raistlin\n",
    "carnage [ 02 : 00 ] karabas\n",
    "Python [ 02 : 00 ] ons\\maps\n",
    "\"\"\"\n",
    "\n",
    "w2 = \"\"\" Hacker.RazerJ [ 02 : 00 ] Michael Smith\n",
    "ERMAC [ 00 : 02 ] RocketBoy\n",
    "ons\\destrukt [ 02 : 01 ] EG.LoSt-CaUzE\n",
    "mouz.Z4muZ [ 02 : 00 ] rapha\n",
    "ons\\cl0ck [ 02 : 00 ] ons\\chance\n",
    "czm [ 02 : 00 ] viju\n",
    "carnage [ 00 : 02 ] Python\n",
    "mouz.Cooller [ 02 : 00 ] ons\\daler\n",
    "\"\"\"\n",
    "\n",
    "w3 = \"\"\" mouz.Z4muZ [ 02 : 00 ] ons\\destrukt\n",
    "Hacker.RazerJ [ 02 : 00 ] RocketBoy\n",
    "czm [ 02 : 00 ] Python\n",
    "mouz.Cooller [ 02 : 01 ] ons\\cl0ck \"\"\"\n",
    "\n",
    "w4 = \"\"\" Hacker.RazerJ [ 02 : 00 ] mouz.Z4muZ\n",
    "mouz.Cooller [ 01 : 02 ] czm\"\"\""
   ]
  },
  {
   "cell_type": "code",
   "execution_count": null,
   "metadata": {},
   "outputs": [],
   "source": [
    "w6 = \"\"\" viju [ 00 : 02 ] mouz.Cooller\n",
    "Python [ 00 : 02 ] mouz.Z4muZ\"\"\"\n",
    "\n",
    "w5 = \"\"\"viju [ 02 : 01 ] ons\\destrukt\n",
    "Python [ 02 : 00 ] ons\\cl0ck\"\"\"\n",
    "\n",
    "w4 =\"\"\"viju [ 02 : 01 ] RocketBoy\n",
    "ons\\destrukt [ 02 : 01 ] ons\\daler\n",
    "ons\\cl0ck [ 02 : 00 ] rapha\n",
    "Python [ 02 : 00 ] Raistlin\"\"\"\n",
    "\n",
    "w3 = \"\"\"rapha [ 02 : 00 ] EG.LoSt-CaUzE\n",
    "viju [ 02 : 00 ] carnage\n",
    "ons\\daler [ 02 : 00 ] ons\\chance\n",
    "Michael Smith [ 01 : 02 ] Raistlin\"\"\"\n",
    "\n",
    "w2 = \"\"\"carnage [ 02 : 01 ] FienD\n",
    "ERMAC [ 01 : 02 ] Raistlin\n",
    "rapha [ 02 : 00 ] Relic\n",
    "ons\\daler [ 02 : 00 ] Lunat1c\n",
    "viju [ 02 : 00 ] Matthew Winke\n",
    "ons\\chance [ 02 : 00 ] etcz\n",
    "EG.LoSt-CaUzE [ 02 : 01 ] Kevin Holowchik\n",
    "Michael Smith [ 02 : 00 ] karabas\"\"\"\n",
    "\n",
    "w1 = \"\"\" EG|gellehsak [ 01 : 02 ] FienD\n",
    "Stasis [ 00 : 02 ] Matthew Winke\n",
    "fake_id [ 00 : 02 ] Raistlin\n",
    "clowN [ 00 : 02 ] Kevin Holowchik\n",
    "Relic [ 02 : 00 ] g0d/trito\n",
    "toxter [ 00 : 02 ] etcz\n",
    "Lunat1c [ 02 : 00 ] King0r\n",
    "ons\\maps [ 00 : 02 ] karabas \"\"\""
   ]
  },
  {
   "cell_type": "code",
   "execution_count": null,
   "metadata": {},
   "outputs": [],
   "source": [
    "def clean(n):\n",
    "    n = ''.join(n.split())\n",
    "    n = n.replace('n|','').replace('ic-','').replace('stx-','').replace('[KoG]^','').replace(']km[','')\n",
    "    n = n.replace('[B]','').replace('territory.ru>','').replace('esp-','').replace('ss-','').replace('K9-','')\n",
    "    n = n.replace('socrates_','socrates').replace('ASUS*c58-','').replace('ve-','').replace('g1|','')\n",
    "    n = n.replace('TOXIC','toxjq').replace('.','').replace('territoryru`','').replace('Cooller','cooller')\n",
    "    return n\n",
    "def clean2(x):\n",
    "    for sub in ['cK-','All*','{DigA}','c4','mouz.','ons\\\\','EG|','g0d/','EG','mouz','Hacker']:\n",
    "        x = x.replace(sub,'')\n",
    "    return x\n",
    "all_matches = []\n",
    "gen_str = [w1,w2,w3,w4,w5,w6]\n",
    "for sec in gen_str:\n",
    "    sec = sec.replace('\\n\\n','\\n')\n",
    "    matches = []\n",
    "    s1,s2 = -1,-1\n",
    "    match_cand = re.findall('(.+)\\[ (\\d+) : (\\d+) \\] (.+)',sec)\n",
    "    for p1,s1,s2,p2 in match_cand:\n",
    "        p1 = clean2(clean(p1))\n",
    "        p2 = clean2(clean(p2))\n",
    "        s1 = int(s1)\n",
    "        s2 = int(s2)\n",
    "        matches.append((p1,p2,s1,s2))\n",
    "    all_matches.append(matches)"
   ]
  },
  {
   "cell_type": "code",
   "execution_count": null,
   "metadata": {},
   "outputs": [],
   "source": [
    "all_matches"
   ]
  },
  {
   "cell_type": "code",
   "execution_count": null,
   "metadata": {},
   "outputs": [],
   "source": [
    "[len(_) for _ in all_matches],sum([len(_) for _ in all_matches])"
   ]
  },
  {
   "cell_type": "code",
   "execution_count": null,
   "metadata": {},
   "outputs": [],
   "source": [
    "queue = [list(_) + [0] for _ in all_matches[-1]]\n",
    "all_match_us = sum(all_matches[:-1],[])[::-1]\n",
    "res = []\n",
    "\n",
    "temp_res = []\n",
    "curr_level = 0\n",
    "print(queue,res)\n",
    "while len(queue) > 0:\n",
    "    print(len(queue),len(res),curr_level, len(temp_res),len(all_match_us))\n",
    "\n",
    "    match=queue.pop(0)\n",
    "    flip = False\n",
    "    if match[-1] != curr_level:\n",
    "        curr_level += 1\n",
    "        res.append(temp_res)\n",
    "        temp_res = []\n",
    "    del_idx = -1\n",
    "    for i in range(len(all_match_us)):\n",
    "        if all_match_us[i][0] == match[0] or all_match_us[i][1] == match[0]:\n",
    "            queue.append(list(all_match_us[i]) + [curr_level+1])\n",
    "            del_idx = i\n",
    "            break\n",
    "    #print(del_idx,len(all_match_us))\n",
    "    if del_idx != -1:\n",
    "        del all_match_us[del_idx]\n",
    "        flip =True\n",
    "    del_idx = -1\n",
    "    for i in range(len(all_match_us)):\n",
    "        if all_match_us[i][0] == match[1] or all_match_us[i][1] == match[1]:\n",
    "            queue.append(list(all_match_us[i]) + [curr_level+1])\n",
    "            del_idx = i\n",
    "            break\n",
    "    #print(del_idx,len(all_match_us))\n",
    "    if del_idx != -1:\n",
    "        del all_match_us[del_idx]\n",
    "        flip = False\n",
    "    if flip:\n",
    "        match = (match[1],match[0],match[3],match[2],match[4])\n",
    "    temp_res.append(match)\n",
    "#temp_res.append(['schnucks', 'SoulXtort', 0, 0] + [curr_level])\n",
    "res.append(temp_res)"
   ]
  },
  {
   "cell_type": "code",
   "execution_count": null,
   "metadata": {},
   "outputs": [],
   "source": [
    "[len(_) for _ in res],sum([len(_) for _ in res])\n",
    "#res[4]"
   ]
  },
  {
   "cell_type": "code",
   "execution_count": null,
   "metadata": {},
   "outputs": [],
   "source": [
    "new_res = sum(res[::-1],[])\n",
    "#|R1D43=belmakor|R1D43score=15 |R1D43flag= |R1D43win=1\n",
    "#|R1D44=dCypher|R1D44score=7 |R1D44flag= |R1D44win=\n",
    "for i in range(0,len(new_res)):\n",
    "    p1,p2,s1,s2,lvl = new_res[i]\n",
    "    s1,s2 = int(s1),int(s2)\n",
    "    w1 = '1' if int(s1) > int(s2) else ''\n",
    "    w2 = '1' if int(s2) > int(s1) else ''\n",
    "    \n",
    "\n",
    "    f1 = flags.get(p1.lower(),'')\n",
    "    f2 = flags.get(p2.lower(),'')\n",
    "    \n",
    "    \n",
    "    bn =codes[2*i]\n",
    "    if abs(s1) + abs(s2) ==1:\n",
    "        s1 = ''\n",
    "        s2 = ''\n",
    "    print('|{}={}|{}score={} |{}flag={} |{}win={}'.format(bn,p1,bn,s1,bn,f1,bn,w1))\n",
    "    bn = codes[2*i+1]\n",
    "    print('|{}={}|{}score={} |{}flag={} |{}win={}'.format(bn,p2,bn,s2,bn,f2,bn,w2))\n"
   ]
  },
  {
   "cell_type": "code",
   "execution_count": null,
   "metadata": {},
   "outputs": [],
   "source": [
    "all_matches"
   ]
  },
  {
   "cell_type": "code",
   "execution_count": null,
   "metadata": {},
   "outputs": [],
   "source": [
    "len(codes)/2,len(res),print(all_match_us)"
   ]
  },
  {
   "cell_type": "code",
   "execution_count": null,
   "metadata": {},
   "outputs": [],
   "source": [
    "A = np.ones((6,20)) * -1\n",
    "b = np.array([5,3,1,-1,-3,-5])\n",
    "np.fill_diagonal(A,np.ones(6))"
   ]
  },
  {
   "cell_type": "code",
   "execution_count": null,
   "metadata": {},
   "outputs": [],
   "source": [
    "inv = np.linalg.pinv(A)"
   ]
  },
  {
   "cell_type": "code",
   "execution_count": null,
   "metadata": {},
   "outputs": [],
   "source": [
    "inv @ b"
   ]
  },
  {
   "cell_type": "code",
   "execution_count": null,
   "metadata": {},
   "outputs": [],
   "source": [
    "from sklearn import linear_model\n",
    "clf = linear_model.Lasso(alpha=0.1,fit_intercept=False)\n",
    "clf.fit(A,b)"
   ]
  },
  {
   "cell_type": "code",
   "execution_count": null,
   "metadata": {},
   "outputs": [],
   "source": [
    "clf.coef_"
   ]
  },
  {
   "cell_type": "code",
   "execution_count": null,
   "metadata": {},
   "outputs": [],
   "source": [
    "c = [-1, 4]\n",
    "A = [[-3, 1], [1, 2]]\n",
    "b = [6, 4]\n",
    "x0_bounds = (None, None)\n",
    "x1_bounds = (-3, None)\n",
    "from scipy.optimize import linprog\n",
    "res = linprog(c, A_ub=A, b_ub=b, bounds=[x0_bounds, x1_bounds])\n",
    "res"
   ]
  },
  {
   "cell_type": "code",
   "execution_count": null,
   "metadata": {},
   "outputs": [],
   "source": [
    "#2 players, 1 match\n",
    "\n",
    "np.array([[1,-1],[-1,1]])"
   ]
  },
  {
   "cell_type": "code",
   "execution_count": null,
   "metadata": {},
   "outputs": [],
   "source": [
    "c = [-2,0,2]\n",
    "A = [[1,-1,0],[0,1,-1],[1,0,-1]]\n",
    "b = [2, 2, 2]\n",
    "x0_bounds = (0, 1)\n",
    "x1_bounds = (0, 1)\n",
    "x2_bounds = (0, 1)\n",
    "\n",
    "from scipy.optimize import linprog\n",
    "res = linprog(c, A_ub=A, b_ub=b, bounds=[x0_bounds, x1_bounds,x2_bounds])\n",
    "res"
   ]
  },
  {
   "cell_type": "code",
   "execution_count": null,
   "metadata": {},
   "outputs": [],
   "source": [
    "(np.arange(6)+1).reshape((3,2))"
   ]
  },
  {
   "cell_type": "code",
   "execution_count": null,
   "metadata": {},
   "outputs": [],
   "source": [
    "from pysat.solvers import Glucose3\n",
    "\n",
    "g = Glucose3()\n",
    "g.add_clause([1, 2])\n",
    "g.add_clause([3, 4])\n",
    "g.add_clause([5, 6])\n",
    "\n",
    "print(g.solve())\n",
    "print(g.get_model())"
   ]
  },
  {
   "cell_type": "code",
   "execution_count": null,
   "metadata": {},
   "outputs": [],
   "source": [
    "import numpy as np\n",
    "from itertools import combinations \n",
    "\n",
    "N = 6\n",
    "games = list(combinations(np.arange(0,N),2))\n",
    "g_idx = [i for i in range(len(games))]\n",
    "games,g_idx"
   ]
  },
  {
   "cell_type": "code",
   "execution_count": null,
   "metadata": {},
   "outputs": [],
   "source": [
    "p_games"
   ]
  },
  {
   "cell_type": "code",
   "execution_count": null,
   "metadata": {},
   "outputs": [],
   "source": [
    "from pysmt.shortcuts import Symbol, And, Not, is_sat, get_model, Or\n",
    "\n",
    "varL = [Symbol(str(i)) for i in g_idx]"
   ]
  },
  {
   "cell_type": "code",
   "execution_count": null,
   "metadata": {},
   "outputs": [],
   "source": [
    "records = [5,4,2,2,2,0]\n",
    "hopes = []\n",
    "for i,r in enumerate(records):\n",
    "    p_games = [j for j,g in zip(g_idx,games) if i in g]\n",
    "    if r > N//2:\n",
    "        fr = r\n",
    "        mul = False\n",
    "    else:\n",
    "        fr = len(p_games)-r\n",
    "        mul = True\n",
    "    combos = list(combinations(p_games,fr))\n",
    "    #print(r, fr, combos)\n",
    "    options = []\n",
    "    for p in combos:\n",
    "        lst = [varL[_] if games[_][0] ==i else Not(varL[_])  for _ in p]\n",
    "        if mul:\n",
    "            lst = [Not(_) for _ in lst]\n",
    "        print(And(lst))\n",
    "        options.append(And(lst))\n",
    "    hopes.append(Or(options))\n",
    "    print()\n",
    "is_sat(And(hopes))"
   ]
  },
  {
   "cell_type": "code",
   "execution_count": null,
   "metadata": {},
   "outputs": [],
   "source": [
    "mdl = get_model(And(hopes))\n",
    "res = [str(mdl.get_value(_)) == 'True' for _ in varL]"
   ]
  },
  {
   "cell_type": "code",
   "execution_count": null,
   "metadata": {},
   "outputs": [],
   "source": [
    "from collections import defaultdict\n",
    "scores = defaultdict(int)\n",
    "for g,r in zip(games,res):\n",
    "    if r:\n",
    "        s1,s2 = g\n",
    "    else:\n",
    "        s2,s1 = g\n",
    "    scores[s1] += 1\n",
    "    scores[s2] -= 1"
   ]
  },
  {
   "cell_type": "code",
   "execution_count": null,
   "metadata": {},
   "outputs": [],
   "source": [
    "scores"
   ]
  },
  {
   "cell_type": "code",
   "execution_count": null,
   "metadata": {},
   "outputs": [],
   "source": []
  }
 ],
 "metadata": {
  "kernelspec": {
   "display_name": "Python 3",
   "language": "python",
   "name": "python3"
  },
  "language_info": {
   "codemirror_mode": {
    "name": "ipython",
    "version": 3
   },
   "file_extension": ".py",
   "mimetype": "text/x-python",
   "name": "python",
   "nbconvert_exporter": "python",
   "pygments_lexer": "ipython3",
   "version": "3.7.3"
  }
 },
 "nbformat": 4,
 "nbformat_minor": 2
}
