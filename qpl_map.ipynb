{
 "cells": [
  {
   "cell_type": "code",
   "execution_count": null,
   "id": "b6f02fc4",
   "metadata": {},
   "outputs": [],
   "source": [
    "import numpy as np"
   ]
  },
  {
   "cell_type": "code",
   "execution_count": null,
   "id": "2417e8b2",
   "metadata": {},
   "outputs": [],
   "source": [
    "np.random.seed(42)\n",
    "M = 16\n",
    "N = 7"
   ]
  },
  {
   "cell_type": "code",
   "execution_count": null,
   "id": "9d6d590c",
   "metadata": {},
   "outputs": [],
   "source": [
    "costs = []\n",
    "for i in range(10000):\n",
    "    X = np.random.randn(M,N)\n",
    "    sign = np.array([1,-1])\n",
    "    order = [(0,0,-1),(0,1,-1),(0,0,1),(0,1,1),(0,0,-1),(0,1,1)]\n",
    "\n",
    "    Xt = X.copy()\n",
    "    maps = []\n",
    "    for axis, player, act in order:\n",
    "        idx = np.argmax((sign[player] * act * Xt).sum(axis=axis))\n",
    "        if act == -1:\n",
    "            pass\n",
    "        elif axis==0:\n",
    "            maps.append(Xt[:,idx])\n",
    "        Xt = np.delete(Xt,idx,axis=1-axis)\n",
    "    maps = np.array(maps)\n",
    "\n",
    "    order2 = [[(0,-1),(1,1),(0,1)],\n",
    "              [(1,-1),(0,1),(1,1)],\n",
    "              #[(0,-1),(1,1),(0,1)]]\n",
    "              #[(0,-1),(1,-1),(0,1),(1,1)]]\n",
    "              [(1,-1),(0,-1),(1,1),(0,1)]]\n",
    "\n",
    "    drop_idx = []\n",
    "    picks = []\n",
    "    for mp,o2 in zip(maps,order2):\n",
    "        for player,act in o2:\n",
    "            idx = [_ for _ in np.argsort(sign[player] * act * mp)[::-1] if _ not in drop_idx][0]\n",
    "            if act == 1:\n",
    "                picks.append(mp[idx])\n",
    "            drop_idx.append(idx)\n",
    "    costs.append(picks)"
   ]
  },
  {
   "cell_type": "code",
   "execution_count": null,
   "id": "0005faa8",
   "metadata": {
    "scrolled": true
   },
   "outputs": [],
   "source": [
    "np.array(costs).mean(),np.array(costs)[:,:4].mean()"
   ]
  }
 ],
 "metadata": {
  "kernelspec": {
   "display_name": "Python 3 (ipykernel)",
   "language": "python",
   "name": "python3"
  },
  "language_info": {
   "codemirror_mode": {
    "name": "ipython",
    "version": 3
   },
   "file_extension": ".py",
   "mimetype": "text/x-python",
   "name": "python",
   "nbconvert_exporter": "python",
   "pygments_lexer": "ipython3",
   "version": "3.9.12"
  }
 },
 "nbformat": 4,
 "nbformat_minor": 5
}
