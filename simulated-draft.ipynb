{
 "cells": [
  {
   "cell_type": "code",
   "execution_count": null,
   "id": "54942be0",
   "metadata": {},
   "outputs": [],
   "source": [
    "import numpy as np\n",
    "import scipy.stats"
   ]
  },
  {
   "cell_type": "code",
   "execution_count": null,
   "id": "6f32c492",
   "metadata": {},
   "outputs": [],
   "source": [
    "TEAM_NUM = 2\n",
    "TEAM_WEIGHTS = np.array([1,1,1,1])\n",
    "TEAM_WEIGHTS = TEAM_WEIGHTS/TEAM_WEIGHTS.sum()\n",
    "EXTRA_NUM = 0\n",
    "\n",
    "RATE_CAPT_NOISE = 0.1\n",
    "RATE_NOISE = 0.1\n",
    "\n",
    "RANDOM_SEED_CAPT = False\n",
    "NO_NOISE_CAPT_SEED = False\n",
    "RANDOM_CAPT = True\n",
    "CAPT_EQUAL = False\n",
    "\n",
    "FLIP_MIDDLE = True\n",
    "\n",
    "PLAYER_N = (len(TEAM_WEIGHTS) +EXTRA_NUM) * TEAM_NUM"
   ]
  },
  {
   "cell_type": "code",
   "execution_count": null,
   "id": "1b5bc651",
   "metadata": {},
   "outputs": [],
   "source": [
    "from collections import defaultdict\n",
    "np.random.seed(42)\n",
    "\n",
    "dists = defaultdict(list)\n",
    "spans = defaultdict(list)\n",
    "vecs = defaultdict(list)\n",
    "for SNAKE in [False,True]:\n",
    "    for iteration in range(10000):\n",
    "        ratings = np.random.normal(size=PLAYER_N)\n",
    "        capt_ratings = scipy.stats.multivariate_normal(ratings,RATE_CAPT_NOISE).rvs()\n",
    "        player_ratings = scipy.stats.multivariate_normal(ratings,RATE_NOISE).rvs(TEAM_NUM)\n",
    "        \n",
    "        if RANDOM_CAPT:\n",
    "            capts = np.arange(PLAYER_N)\n",
    "            np.random.shuffle(capts)\n",
    "            capts = capts[-TEAM_NUM:]\n",
    "        else:\n",
    "            capts = np.argsort(capt_ratings)[-TEAM_NUM:]\n",
    "            #capts = np.array([_ for _ in capts[::-1]])\n",
    "        \n",
    "        if NO_NOISE_CAPT_SEED:\n",
    "            s_idx = sorted([(ratings[i],i) for i in capts])\n",
    "            capts = np.array([_[1] for _ in s_idx])\n",
    "        chosen = np.zeros(PLAYER_N)\n",
    "        range_s = np.arange(TEAM_NUM)\n",
    "        if RANDOM_SEED_CAPT:\n",
    "            np.random.shuffle(range_s)\n",
    "        chosen[capts] = range_s+1\n",
    "        if CAPT_EQUAL:\n",
    "            ratings[capts] = 1.0\n",
    "\n",
    "        for i in range(len(TEAM_WEIGHTS)-1):\n",
    "            draft_order = list(range(TEAM_NUM))\n",
    "            if (SNAKE and (i%2) == 1) or (FLIP_MIDDLE and i > 1):\n",
    "                draft_order = draft_order[::-1]\n",
    "            for j in draft_order:\n",
    "                #print(j)\n",
    "                best = max([(_,i) for i,_ in enumerate(player_ratings[j]) if chosen[i] == 0])[1]\n",
    "                chosen[best] = j + 1\n",
    "        rts = []\n",
    "        for k in range(TEAM_NUM):\n",
    "            rts.append((np.array(sorted(ratings[chosen == k+1],reverse=True)) * TEAM_WEIGHTS).sum())\n",
    "        dists[SNAKE].append(np.std(rts))\n",
    "        spans[SNAKE].append(np.ptp(rts))\n",
    "        vecs[SNAKE].append(rts)\n",
    "        #raise"
   ]
  },
  {
   "cell_type": "code",
   "execution_count": null,
   "id": "138219bc",
   "metadata": {},
   "outputs": [],
   "source": [
    "{k:np.mean(v) for k,v in dists.items()}"
   ]
  },
  {
   "cell_type": "code",
   "execution_count": null,
   "id": "dd378ee3",
   "metadata": {},
   "outputs": [],
   "source": [
    "{k:np.mean(v) for k,v in spans.items()}"
   ]
  },
  {
   "cell_type": "code",
   "execution_count": null,
   "id": "83a892f4",
   "metadata": {},
   "outputs": [],
   "source": [
    "{k:np.round(np.mean(v,0),2) for k,v in vecs.items()}"
   ]
  },
  {
   "cell_type": "code",
   "execution_count": null,
   "id": "0b16aad3",
   "metadata": {},
   "outputs": [],
   "source": []
  },
  {
   "cell_type": "code",
   "execution_count": null,
   "id": "c67ee6b9",
   "metadata": {},
   "outputs": [],
   "source": []
  }
 ],
 "metadata": {
  "kernelspec": {
   "display_name": "Python 3 (ipykernel)",
   "language": "python",
   "name": "python3"
  },
  "language_info": {
   "codemirror_mode": {
    "name": "ipython",
    "version": 3
   },
   "file_extension": ".py",
   "mimetype": "text/x-python",
   "name": "python",
   "nbconvert_exporter": "python",
   "pygments_lexer": "ipython3",
   "version": "3.9.12"
  }
 },
 "nbformat": 4,
 "nbformat_minor": 5
}
