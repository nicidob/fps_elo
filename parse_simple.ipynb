{
 "cells": [
  {
   "cell_type": "code",
   "execution_count": null,
   "metadata": {},
   "outputs": [],
   "source": [
    "import pandas as pd\n",
    "import numpy as np\n",
    "import re\n",
    "import os\n",
    "\n",
    "def clean(n):\n",
    "    n = ''.join(n.split())\n",
    "    n = n.replace('n|','').replace('ic-','').replace('stx-','').replace('[KoG]^','').replace(']km[','')\n",
    "    n = n.replace('[B]','').replace('territory.ru>','').replace('esp-','').replace('ss-','').replace('K9-','')\n",
    "    n = n.replace('socrates_','socrates').replace('ASUS*c58-','').replace('ve-','').replace('g1|','')\n",
    "    n = n.replace('TOXIC','toxjq').replace('.','').replace('territoryru`','')\n",
    "    return n\n",
    "def clean2(x):\n",
    "    for sub in ['cK-','All*','{DigA}','c4']:\n",
    "        x = x.replace(sub,'')\n",
    "    return x"
   ]
  },
  {
   "cell_type": "code",
   "execution_count": null,
   "metadata": {},
   "outputs": [],
   "source": [
    "FILE = 'na1.txt'\n",
    "TYPE = 'se'"
   ]
  },
  {
   "cell_type": "code",
   "execution_count": null,
   "metadata": {},
   "outputs": [],
   "source": [
    "brack_text = {}\n",
    "for t in os.listdir('brackets'):\n",
    "    brack_text[t] = open('brackets/' + t).read()\n",
    "    \n",
    "import pickle\n",
    "with open('flags.pkl','rb') as fp:\n",
    "    flags = pickle.load(fp)\n",
    "flags['pow3r'] = 'ru'\n",
    "flags['slinger'] = 'de'\n",
    "flags['treble'] = 'se'\n",
    "flags['zyz'] = 'de'\n",
    "flags['polosatiy'] = 'ru'\n",
    "flags['powerk'] = 'kr'\n",
    "flags['neok'] = 'de'\n",
    "flags['shurik'] = 'ru'\n",
    "flags['guard'] = 'lt'\n",
    "flags['p0ni'] = 'es'"
   ]
  },
  {
   "cell_type": "code",
   "execution_count": null,
   "metadata": {},
   "outputs": [],
   "source": []
  },
  {
   "cell_type": "code",
   "execution_count": null,
   "metadata": {},
   "outputs": [],
   "source": [
    "with open(FILE) as fp:\n",
    "    text = fp.read()\n",
    "    \n",
    "text_games = [_.split('\\n') for _ in text.split('\\n\\n')]\n",
    "\n",
    "\n",
    "all_matches = []\n",
    "for sec in text.split('\\n\\n'):\n",
    "    sec = sec.replace('\\n\\n','\\n')\n",
    "    matches = []\n",
    "    s1,s2 = -1,-1\n",
    "    #match_cand = re.findall('(.+?)\\s+([><]|vs)\\s+(.+?)[-\\s]+([\\d-]+):([-\\d]+)',sec)\n",
    "    match_cand = re.findall('(.+?) (.+?) ([\\d-]+) ([\\d-]+)',sec)\n",
    "    #match_cand = re.findall('(.+) \\[(\\d+):(\\d+)\\] (.+)',sec)\n",
    "    #match_cand = re.findall('(.+) \\[ (\\d+):(\\d+) \\] (.+)',sec)\n",
    "\n",
    "    for p1,p2,s1,s2 in match_cand:\n",
    "        p1 = clean(p1)\n",
    "        p2 = clean(p2)\n",
    "        s1 = int(s1)\n",
    "        s2 = int(s2)\n",
    "        matches.append((p1,p2,s1,s2))\n",
    "    #match_cand = re.findall('(.+?)\\s+([><]|vs)\\s+([^:]+?)\\n',sec)\n",
    "    all_matches.append(matches)\n",
    "    \n",
    "all_matches"
   ]
  },
  {
   "cell_type": "code",
   "execution_count": null,
   "metadata": {},
   "outputs": [],
   "source": [
    "codes = brack_codes[str(2*len(all_matches[0])) + TYPE + '.txt']"
   ]
  },
  {
   "cell_type": "code",
   "execution_count": null,
   "metadata": {},
   "outputs": [],
   "source": [
    "[len(_) for _ in all_matches],sum([len(_) for _ in all_matches])\n",
    "decon_idx = -1\n",
    "plen = 128\n",
    "for i in range(len(all_matches)):\n",
    "    if len(all_matches[i]) > plen:\n",
    "        decon_idx = i\n",
    "        break\n",
    "    else:\n",
    "        plen = len(all_matches[i])\n",
    "if decon_idx != -1:\n",
    "    top_brack = all_matches[:decon_idx]\n",
    "    bot_brack = all_matches[decon_idx:]\n",
    "else:\n",
    "    top_brack = all_matches\n",
    "    bot_brack = []"
   ]
  },
  {
   "cell_type": "code",
   "execution_count": null,
   "metadata": {},
   "outputs": [],
   "source": [
    "[len(_) for _ in top_brack]"
   ]
  },
  {
   "cell_type": "code",
   "execution_count": null,
   "metadata": {},
   "outputs": [],
   "source": [
    "\n",
    "[len(_) for _ in bot_brack]\n"
   ]
  },
  {
   "cell_type": "code",
   "execution_count": null,
   "metadata": {},
   "outputs": [],
   "source": [
    "tres = []\n",
    "for brack in [_ for _ in [top_brack,bot_brack] if len(_) > 0]:\n",
    "    res = []\n",
    "\n",
    "    queue = [list(_) + [0] for _ in brack[-1]]\n",
    "    all_match_us = sum(brack[:-1],[])[::-1]\n",
    "\n",
    "    temp_res = []\n",
    "    curr_level = 0\n",
    "    print(queue,res)\n",
    "    while len(queue) > 0:\n",
    "        print(len(queue),len(res),curr_level, len(temp_res),len(all_match_us))\n",
    "\n",
    "        match=queue.pop(0)\n",
    "        flip = False\n",
    "        if match[-1] != curr_level:\n",
    "            curr_level += 1\n",
    "            res.append(temp_res)\n",
    "            temp_res = []\n",
    "        del_idx = -1\n",
    "        for i in range(len(all_match_us)):\n",
    "            if all_match_us[i][0] == match[0] or all_match_us[i][1] == match[0]:\n",
    "                queue.append(list(all_match_us[i]) + [curr_level+1])\n",
    "                del_idx = i\n",
    "                break\n",
    "        #print(del_idx,len(all_match_us))\n",
    "        if del_idx != -1:\n",
    "            del all_match_us[del_idx]\n",
    "            flip =True\n",
    "        del_idx = -1\n",
    "        for i in range(len(all_match_us)):\n",
    "            if all_match_us[i][0] == match[1] or all_match_us[i][1] == match[1]:\n",
    "                queue.append(list(all_match_us[i]) + [curr_level+1])\n",
    "                del_idx = i\n",
    "                break\n",
    "        #print(del_idx,len(all_match_us))\n",
    "        if del_idx != -1:\n",
    "            del all_match_us[del_idx]\n",
    "            flip = False\n",
    "        if flip:\n",
    "            match = (match[1],match[0],match[3],match[2],match[4])\n",
    "        temp_res.append(match)\n",
    "    #temp_res.append(['schnucks', 'SoulXtort', 0, 0] + [curr_level])\n",
    "    res.append(temp_res)\n",
    "    tres.append(res)"
   ]
  },
  {
   "cell_type": "code",
   "execution_count": null,
   "metadata": {},
   "outputs": [],
   "source": [
    "[[len(x) for x in _ ] for _ in tres]"
   ]
  },
  {
   "cell_type": "code",
   "execution_count": null,
   "metadata": {},
   "outputs": [],
   "source": [
    "tres"
   ]
  },
  {
   "cell_type": "code",
   "execution_count": null,
   "metadata": {},
   "outputs": [],
   "source": [
    "if False:\n",
    "    tres[1][-1].insert(3,['bye','bye',0,0,7])\n",
    "    tres[1][-1].insert(0,['bye','bye',0,0,7])\n",
    "    tres[1][-1].append(['bye','bye',0,0,7])\n",
    "    tres[1][-1]"
   ]
  },
  {
   "cell_type": "code",
   "execution_count": null,
   "metadata": {},
   "outputs": [],
   "source": [
    "new_res = sum([_[::-1] for _ in tres],[])\n",
    "new_res = sum(new_res,[])\n",
    "#|R1D43=belmakor|R1D43score=15 |R1D43flag= |R1D43win=1\n",
    "#|R1D44=dCypher|R1D44score=7 |R1D44flag= |R1D44win=\n",
    "for i in range(0,len(new_res)):\n",
    "    p1,p2,s1,s2,lvl = new_res[i]\n",
    "    s1,s2 = int(s1),int(s2)\n",
    "    w1 = '1' if int(s1) > int(s2) else ''\n",
    "    w2 = '1' if int(s2) > int(s1) else ''\n",
    "    bn =codes[2*i]\n",
    "    if abs(s1) + abs(s2) ==1:\n",
    "        s1 = ''\n",
    "        s2 = ''\n",
    "    f1 = flags.get(p1.lower(),'')\n",
    "    f2 = flags.get(p2.lower(),'')\n",
    "    if p2 == 'bye':\n",
    "        f2 = ''\n",
    "\n",
    "    print('|{}={}|{}score={} |{}flag={} |{}win={}'.format(bn,p1,bn,s1,bn,f1,bn,w1))\n",
    "    bn = codes[2*i+1]\n",
    "    print('|{}={}|{}score={} |{}flag={} |{}win={}'.format(bn,p2,bn,s2,bn,f2,bn,w2))\n",
    "print()\n",
    "for i in range(i+1,len(codes)//2):\n",
    "    p1,p2 = '',''\n",
    "    s1,s2 ='',''\n",
    "    w1 = ''\n",
    "    w2 = ''\n",
    "    bn =codes[2*i]\n",
    "    f1 = ''#flags.get(p1.lower(),'ru')\n",
    "    f2 = ''\n",
    "    print('|{}={}|{}score={} |{}flag={} |{}win={}'.format(bn,p1,bn,s1,bn,f1,bn,w1))\n",
    "    bn = codes[2*i+1]\n",
    "    print('|{}={}|{}score={} |{}flag={} |{}win={}'.format(bn,p2,bn,s2,bn,f2,bn,w2))\n"
   ]
  },
  {
   "cell_type": "code",
   "execution_count": null,
   "metadata": {},
   "outputs": [],
   "source": [
    "all_matches"
   ]
  },
  {
   "cell_type": "code",
   "execution_count": null,
   "metadata": {},
   "outputs": [],
   "source": [
    "len(codes)/2,len(res),print(all_match_us)"
   ]
  },
  {
   "cell_type": "code",
   "execution_count": null,
   "metadata": {},
   "outputs": [],
   "source": []
  },
  {
   "cell_type": "code",
   "execution_count": null,
   "metadata": {},
   "outputs": [],
   "source": []
  }
 ],
 "metadata": {
  "kernelspec": {
   "display_name": "Python 3",
   "language": "python",
   "name": "python3"
  },
  "language_info": {
   "codemirror_mode": {
    "name": "ipython",
    "version": 3
   },
   "file_extension": ".py",
   "mimetype": "text/x-python",
   "name": "python",
   "nbconvert_exporter": "python",
   "pygments_lexer": "ipython3",
   "version": "3.7.3"
  }
 },
 "nbformat": 4,
 "nbformat_minor": 2
}
